{
 "cells": [
  {
   "cell_type": "markdown",
   "metadata": {},
   "source": [
    "# [GoogleNet Implementation](https://static.googleusercontent.com/media/research.google.com/en//pubs/archive/43022.pdf)\n",
    "\n",
    "- 2014 ILSVRC 1nd place \n",
    "- Inception Module\n",
    "\n",
    "![alt text](GoogleNet.jpeg)"
   ]
  },
  {
   "cell_type": "code",
   "execution_count": 1,
   "metadata": {
    "ExecuteTime": {
     "end_time": "2018-03-24T12:11:32.630739Z",
     "start_time": "2018-03-24T12:11:32.625819Z"
    }
   },
   "outputs": [],
   "source": [
    "try:\n",
    "    shutil.rmtree('runs/')\n",
    "except:\n",
    "    pass"
   ]
  },
  {
   "cell_type": "markdown",
   "metadata": {
    "ExecuteTime": {
     "end_time": "2018-03-24T07:38:10.961058Z",
     "start_time": "2018-03-24T07:38:09.256162Z"
    }
   },
   "source": [
    "## 1. Settings\n",
    "### 1) Import libs"
   ]
  },
  {
   "cell_type": "code",
   "execution_count": 2,
   "metadata": {
    "ExecuteTime": {
     "end_time": "2018-03-24T12:11:33.415632Z",
     "start_time": "2018-03-24T12:11:33.017088Z"
    }
   },
   "outputs": [
    {
     "name": "stdout",
     "output_type": "stream",
     "text": [
      "False\n"
     ]
    }
   ],
   "source": [
    "import torch\n",
    "import torch.nn as nn\n",
    "from torch.autograd import Variable\n",
    "import torch.optim as optim\n",
    "import torch.nn.functional as F\n",
    "import torch.utils.data as data\n",
    "import numpy as np\n",
    "import torchvision.transforms as transforms\n",
    "import torchvision.datasets as vdatasets\n",
    "import torchvision.utils as vutils\n",
    "import random\n",
    "import os, pickle\n",
    "from tensorboardX import SummaryWriter\n",
    "torch.manual_seed(1)\n",
    "\n",
    "# DATA_PATH = os.environ['/data/']\n",
    "USE_CUDA = torch.cuda.is_available()\n",
    "\n",
    "import matplotlib.pyplot as plt\n",
    "%matplotlib inline\n",
    "\n",
    "print(USE_CUDA)"
   ]
  },
  {
   "cell_type": "markdown",
   "metadata": {
    "ExecuteTime": {
     "end_time": "2018-03-24T07:38:10.961058Z",
     "start_time": "2018-03-24T07:38:09.256162Z"
    }
   },
   "source": [
    "### 2) Hyperameters"
   ]
  },
  {
   "cell_type": "code",
   "execution_count": 3,
   "metadata": {
    "ExecuteTime": {
     "end_time": "2018-03-24T12:11:34.099138Z",
     "start_time": "2018-03-24T12:11:34.092974Z"
    }
   },
   "outputs": [],
   "source": [
    "batch_size= 1\n",
    "learning_rate = 0.0002\n",
    "epoch = 100"
   ]
  },
  {
   "cell_type": "markdown",
   "metadata": {
    "ExecuteTime": {
     "end_time": "2018-03-24T07:38:10.961058Z",
     "start_time": "2018-03-24T07:38:09.256162Z"
    }
   },
   "source": [
    "## 2. Data Loader"
   ]
  },
  {
   "cell_type": "code",
   "execution_count": 4,
   "metadata": {
    "ExecuteTime": {
     "end_time": "2018-03-24T12:11:36.294754Z",
     "start_time": "2018-03-24T12:11:36.289249Z"
    }
   },
   "outputs": [],
   "source": [
    "normalize = transforms.Normalize(mean=[0.485, 0.456, 0.406],\n",
    "                                     std=[0.229, 0.224, 0.225])\n",
    "\n",
    "# train\n",
    "img_dir = \"./data\"\n",
    "img_data = vdatasets.ImageFolder(img_dir, transforms.Compose([\n",
    "            transforms.RandomSizedCrop(224),\n",
    "            transforms.RandomHorizontalFlip(),\n",
    "            transforms.ToTensor(),\n",
    "            normalize\n",
    "            ]))\n",
    "\n",
    "img_batch = data.DataLoader(img_data, batch_size=batch_size,\n",
    "                            shuffle=True, num_workers=2)"
   ]
  },
  {
   "cell_type": "markdown",
   "metadata": {
    "ExecuteTime": {
     "end_time": "2018-03-24T07:38:10.961058Z",
     "start_time": "2018-03-24T07:38:09.256162Z"
    }
   },
   "source": [
    "## 3. Model"
   ]
  },
  {
   "cell_type": "markdown",
   "metadata": {
    "ExecuteTime": {
     "end_time": "2018-03-24T07:38:39.290202Z",
     "start_time": "2018-03-24T07:38:39.287733Z"
    }
   },
   "source": [
    "## 1) Inception-A"
   ]
  },
  {
   "cell_type": "markdown",
   "metadata": {
    "ExecuteTime": {
     "end_time": "2018-03-24T07:38:39.290202Z",
     "start_time": "2018-03-24T07:38:39.287733Z"
    }
   },
   "source": [
    "![alt text](Inception-A.png)"
   ]
  },
  {
   "cell_type": "code",
   "execution_count": 5,
   "metadata": {
    "ExecuteTime": {
     "end_time": "2018-03-24T12:11:38.594138Z",
     "start_time": "2018-03-24T12:11:38.513485Z"
    }
   },
   "outputs": [],
   "source": [
    "class Inception(nn.Module):\n",
    "    \n",
    "    def __init__(self,in_ch,out_ch1,mid_ch13,out_ch13,mid_ch15,out_ch15,out_ch_pool_conv,auxiliary=False):\n",
    "        super(Inception,self).__init__()\n",
    "        \n",
    "        self.conv1 = nn.Sequential(\n",
    "            nn.Conv2d(in_ch,out_ch1,kernel_size=1,stride=1),\n",
    "            nn.ReLU())\n",
    "        self.conv13 = nn.Sequential(\n",
    "            nn.Conv2d(in_ch,mid_ch13,kernel_size=1,stride=1),\n",
    "            nn.ReLU(),\n",
    "            nn.Conv2d(mid_ch13,out_ch13,kernel_size=3,stride=1,padding=1),\n",
    "            nn.ReLU())\n",
    "        \n",
    "        self.conv15 = nn.Sequential(\n",
    "            nn.Conv2d(in_ch,mid_ch15,kernel_size=1,stride=1),\n",
    "            nn.ReLU(),\n",
    "            nn.Conv2d(mid_ch15,out_ch15,kernel_size=5,stride=1,padding=2),\n",
    "            nn.ReLU())\n",
    "        \n",
    "        self.pool_conv1 = nn.Sequential(\n",
    "            nn.MaxPool2d(3,stride=1,padding=1),\n",
    "            nn.Conv2d(in_ch,out_ch_pool_conv,kernel_size=1,stride=1),\n",
    "            nn.ReLU())\n",
    "        \n",
    "        self.auxiliary = auxiliary\n",
    "        \n",
    "        if auxiliary:\n",
    "            self.auxiliary_layer = nn.Sequential(\n",
    "                nn.AvgPool2d(5,3),\n",
    "                nn.Conv2d(in_ch,128,1),\n",
    "                nn.ReLU())\n",
    "        \n",
    "    def forward(self,inputs,train=False):\n",
    "        conv1_out = self.conv1(inputs)\n",
    "        conv13_out = self.conv13(inputs)\n",
    "        conv15_out = self.conv15(inputs)\n",
    "        pool_conv_out = self.pool_conv1(inputs)\n",
    "        outputs = torch.cat([conv1_out,conv13_out,conv15_out,pool_conv_out],1) # depth-wise concat\n",
    "        \n",
    "        if self.auxiliary:\n",
    "            if train:\n",
    "                outputs2 = self.auxiliary_layer(inputs)\n",
    "            else:\n",
    "                outputs2 = None\n",
    "            return outputs, outputs2\n",
    "        else:\n",
    "            return outputs"
   ]
  },
  {
   "cell_type": "markdown",
   "metadata": {},
   "source": [
    "### tip) Check Inception-A"
   ]
  },
  {
   "cell_type": "code",
   "execution_count": 6,
   "metadata": {
    "ExecuteTime": {
     "end_time": "2018-03-24T12:11:39.502483Z",
     "start_time": "2018-03-24T12:11:39.393514Z"
    }
   },
   "outputs": [
    {
     "name": "stdout",
     "output_type": "stream",
     "text": [
      "graph(%1 : Float(2, 64, 56, 56)\n",
      "      %2 : Float(32, 64, 1, 1)\n",
      "      %3 : Float(32)\n",
      "      %4 : Float(32, 64, 1, 1)\n",
      "      %5 : Float(32)\n",
      "      %6 : Float(64, 32, 3, 3)\n",
      "      %7 : Float(64)\n",
      "      %8 : Float(16, 64, 1, 1)\n",
      "      %9 : Float(16)\n",
      "      %10 : Float(32, 16, 5, 5)\n",
      "      %11 : Float(32)\n",
      "      %12 : Float(64, 64, 1, 1)\n",
      "      %13 : Float(64)) {\n",
      "  %15 : UNKNOWN_TYPE = Conv[kernel_shape=[1, 1], strides=[1, 1], pads=[0, 0, 0, 0], dilations=[1, 1], group=1](%1, %2), uses = [[%16.i0]], scope: Inception/Sequential[conv1]/Conv2d[0];\n",
      "  %16 : Float(2, 32, 56, 56) = Add[broadcast=1, axis=1](%15, %3), uses = [%17.i0], scope: Inception/Sequential[conv1]/Conv2d[0];\n",
      "  %17 : Float(2, 32, 56, 56) = Relu(%16), uses = [%39.i0], scope: Inception/Sequential[conv1]/ReLU[1];\n",
      "  %19 : UNKNOWN_TYPE = Conv[kernel_shape=[1, 1], strides=[1, 1], pads=[0, 0, 0, 0], dilations=[1, 1], group=1](%1, %4), uses = [[%20.i0]], scope: Inception/Sequential[conv13]/Conv2d[0];\n",
      "  %20 : Float(2, 32, 56, 56) = Add[broadcast=1, axis=1](%19, %5), uses = [%21.i0], scope: Inception/Sequential[conv13]/Conv2d[0];\n",
      "  %21 : Float(2, 32, 56, 56) = Relu(%20), uses = [%22.i0], scope: Inception/Sequential[conv13]/ReLU[1];\n",
      "  %23 : UNKNOWN_TYPE = Conv[kernel_shape=[3, 3], strides=[1, 1], pads=[1, 1, 1, 1], dilations=[1, 1], group=1](%21, %6), uses = [[%24.i0]], scope: Inception/Sequential[conv13]/Conv2d[2];\n",
      "  %24 : Float(2, 64, 56, 56) = Add[broadcast=1, axis=1](%23, %7), uses = [%25.i0], scope: Inception/Sequential[conv13]/Conv2d[2];\n",
      "  %25 : Float(2, 64, 56, 56) = Relu(%24), uses = [%39.i1], scope: Inception/Sequential[conv13]/ReLU[3];\n",
      "  %27 : UNKNOWN_TYPE = Conv[kernel_shape=[1, 1], strides=[1, 1], pads=[0, 0, 0, 0], dilations=[1, 1], group=1](%1, %8), uses = [[%28.i0]], scope: Inception/Sequential[conv15]/Conv2d[0];\n",
      "  %28 : Float(2, 16, 56, 56) = Add[broadcast=1, axis=1](%27, %9), uses = [%29.i0], scope: Inception/Sequential[conv15]/Conv2d[0];\n",
      "  %29 : Float(2, 16, 56, 56) = Relu(%28), uses = [%30.i0], scope: Inception/Sequential[conv15]/ReLU[1];\n",
      "  %31 : UNKNOWN_TYPE = Conv[kernel_shape=[5, 5], strides=[1, 1], pads=[2, 2, 2, 2], dilations=[1, 1], group=1](%29, %10), uses = [[%32.i0]], scope: Inception/Sequential[conv15]/Conv2d[2];\n",
      "  %32 : Float(2, 32, 56, 56) = Add[broadcast=1, axis=1](%31, %11), uses = [%33.i0], scope: Inception/Sequential[conv15]/Conv2d[2];\n",
      "  %33 : Float(2, 32, 56, 56) = Relu(%32), uses = [%39.i2], scope: Inception/Sequential[conv15]/ReLU[3];\n",
      "  %34 : Float(2, 64, 56, 56) = MaxPool[kernel_shape=[3, 3], pads=[1, 1], strides=[1, 1]](%1), uses = [%35.i0], scope: Inception/Sequential[pool_conv1]/MaxPool2d[0];\n",
      "  %36 : UNKNOWN_TYPE = Conv[kernel_shape=[1, 1], strides=[1, 1], pads=[0, 0, 0, 0], dilations=[1, 1], group=1](%34, %12), uses = [[%37.i0]], scope: Inception/Sequential[pool_conv1]/Conv2d[1];\n",
      "  %37 : Float(2, 64, 56, 56) = Add[broadcast=1, axis=1](%36, %13), uses = [%38.i0], scope: Inception/Sequential[pool_conv1]/Conv2d[1];\n",
      "  %38 : Float(2, 64, 56, 56) = Relu(%37), uses = [%39.i3], scope: Inception/Sequential[pool_conv1]/ReLU[2];\n",
      "  %39 : Float(2, 192, 56, 56) = Concat[axis=1](%17, %25, %33, %38), uses = [%0.i0], scope: Inception;\n",
      "  return (%39);\n",
      "}\n",
      "\n"
     ]
    }
   ],
   "source": [
    "writer = SummaryWriter(comment='-basic-inception')\n",
    "sample_images = torch.randn(2, 64, 56, 56) # batche_size, input_channel, width, height\n",
    "inception = Inception(64, 32, 32, 64, 16, 32, 64)\n",
    "# output = inception(Variable(sample_images))\n",
    "\n",
    "torch.onnx.export(inception, Variable(sample_images), 'inception.proto', verbose=True)\n",
    "writer.add_graph_onnx('inception.proto')\n",
    "writer.close()"
   ]
  },
  {
   "cell_type": "markdown",
   "metadata": {},
   "source": [
    "```cell\n",
    "source activate env\n",
    "\n",
    "cd /path/\n",
    "\n",
    "tensorboard --logdir runs\n",
    "```"
   ]
  },
  {
   "cell_type": "markdown",
   "metadata": {},
   "source": [
    "## 2) GoogLeNet"
   ]
  },
  {
   "cell_type": "code",
   "execution_count": 7,
   "metadata": {
    "ExecuteTime": {
     "end_time": "2018-03-24T12:11:40.792268Z",
     "start_time": "2018-03-24T12:11:40.714554Z"
    }
   },
   "outputs": [],
   "source": [
    "class GoogLeNet(nn.Module):\n",
    "    \n",
    "    def __init__(self,num_output=1000):\n",
    "        super(GoogLeNet,self).__init__()\n",
    "        \n",
    "        self.stem_layer = nn.Sequential(\n",
    "                                                        nn.Conv2d(3,64,7,2,3),\n",
    "                                                        nn.ReLU(),\n",
    "                                                        nn.MaxPool2d(3,2,1),\n",
    "                                                        nn.Conv2d(64,64,1),\n",
    "                                                        nn.ReLU(),\n",
    "                                                        nn.Conv2d(64,192,3,1,1),\n",
    "                                                        nn.ReLU(),\n",
    "                                                        nn.MaxPool2d(3,2,1)\n",
    "                                                        )\n",
    "        \n",
    "        #in_ch,out_ch_1,mid_ch_13,out_ch_13,mid_ch_15,out_ch_15,out_ch_pool_conv\n",
    "        self.inception_layer1 = nn.Sequential(\n",
    "                                                                Inception(192,64,96,128,16,32,32),\n",
    "                                                                Inception(256,128,128,192,32,96,64),\n",
    "                                                                nn.MaxPool2d(3,2,1)\n",
    "                                                               )\n",
    "        \n",
    "        self.inception_layer2 = nn.Sequential(\n",
    "                                                                Inception(480,192,96,208,16,48,64),\n",
    "                                                                Inception(512,160,112,224,24,64,64),\n",
    "                                                                Inception(512,128,128,256,24,64,64),\n",
    "                                                                Inception(512,112,144,288,32,64,64),\n",
    "                                                                Inception(528,256,160,320,32,128,128),\n",
    "                                                                nn.MaxPool2d(3,2,1)\n",
    "                                                               )\n",
    "        \n",
    "        #self.inception_layer3 = Inception(528,256,160,320,32,128,128,True) # auxiliary classifier\n",
    "        #self.auxiliary_layer = nn.Linear(128*4*4,num_output)\n",
    "        \n",
    "        self.inception_layer3 = nn.Sequential(\n",
    "                                                                #nn.MaxPool2d(3,2,1),\n",
    "                                                                Inception(832,256,160,320,32,128,128),\n",
    "                                                                Inception(832,384,192,384,48,128,128),\n",
    "                                                                nn.AvgPool2d(7,1)\n",
    "                                                               )\n",
    "        \n",
    "        self.dropout = nn.Dropout2d(0.4)\n",
    "        self.output_layer = nn.Linear(1024,num_output)\n",
    "        \n",
    "    def forward(self,inputs,train=False):\n",
    "        outputs = self.stem_layer(inputs)\n",
    "        outputs = self.inception_layer1(outputs)\n",
    "        outputs = self.inception_layer2(outputs)\n",
    "        #outputs,outputs2 = self.inception_layer3(outputs)\n",
    "        #if train:\n",
    "            # B,128,4,4 => B,128*4*4\n",
    "        #    outputs2 = self.auxiliary_layer(outputs2.view(inputs.size(0),-1))\n",
    "        outputs = self.inception_layer3(outputs)\n",
    "        outputs = self.dropout(outputs)\n",
    "        outputs = outputs.view(outputs.size(0),-1) # 동일 : outputs = outputs.view(batch_size,-1)\n",
    "        outputs = self.output_layer(outputs)\n",
    "        \n",
    "        #if train:\n",
    "        #   return outputs, outputs2\n",
    "        return outputs"
   ]
  },
  {
   "cell_type": "markdown",
   "metadata": {},
   "source": [
    "### tip) check GoogLeNet"
   ]
  },
  {
   "cell_type": "code",
   "execution_count": 8,
   "metadata": {
    "ExecuteTime": {
     "end_time": "2018-03-24T12:11:41.426824Z",
     "start_time": "2018-03-24T12:11:41.384906Z"
    }
   },
   "outputs": [],
   "source": [
    "model = GoogLeNet(2)\n",
    "writer = SummaryWriter(comment=\"-googlenet\")"
   ]
  },
  {
   "cell_type": "code",
   "execution_count": 9,
   "metadata": {
    "ExecuteTime": {
     "end_time": "2018-03-24T12:11:42.080040Z",
     "start_time": "2018-03-24T12:11:42.068285Z"
    }
   },
   "outputs": [],
   "source": [
    "sample_x = torch.randn(batch_size,3,224,224)\n",
    "sample_y = torch.randperm(batch_size)"
   ]
  },
  {
   "cell_type": "code",
   "execution_count": 10,
   "metadata": {
    "ExecuteTime": {
     "end_time": "2018-03-24T12:11:43.106500Z",
     "start_time": "2018-03-24T12:11:42.824896Z"
    }
   },
   "outputs": [
    {
     "name": "stdout",
     "output_type": "stream",
     "text": [
      "graph(%1 : Float(1, 3, 224, 224)\n",
      "      %2 : Float(64, 3, 7, 7)\n",
      "      %3 : Float(64)\n",
      "      %4 : Float(64, 64, 1, 1)\n",
      "      %5 : Float(64)\n",
      "      %6 : Float(192, 64, 3, 3)\n",
      "      %7 : Float(192)\n",
      "      %8 : Float(64, 192, 1, 1)\n",
      "      %9 : Float(64)\n",
      "      %10 : Float(96, 192, 1, 1)\n",
      "      %11 : Float(96)\n",
      "      %12 : Float(128, 96, 3, 3)\n",
      "      %13 : Float(128)\n",
      "      %14 : Float(16, 192, 1, 1)\n",
      "      %15 : Float(16)\n",
      "      %16 : Float(32, 16, 5, 5)\n",
      "      %17 : Float(32)\n",
      "      %18 : Float(32, 192, 1, 1)\n",
      "      %19 : Float(32)\n",
      "      %20 : Float(128, 256, 1, 1)\n",
      "      %21 : Float(128)\n",
      "      %22 : Float(128, 256, 1, 1)\n",
      "      %23 : Float(128)\n",
      "      %24 : Float(192, 128, 3, 3)\n",
      "      %25 : Float(192)\n",
      "      %26 : Float(32, 256, 1, 1)\n",
      "      %27 : Float(32)\n",
      "      %28 : Float(96, 32, 5, 5)\n",
      "      %29 : Float(96)\n",
      "      %30 : Float(64, 256, 1, 1)\n",
      "      %31 : Float(64)\n",
      "      %32 : Float(192, 480, 1, 1)\n",
      "      %33 : Float(192)\n",
      "      %34 : Float(96, 480, 1, 1)\n",
      "      %35 : Float(96)\n",
      "      %36 : Float(208, 96, 3, 3)\n",
      "      %37 : Float(208)\n",
      "      %38 : Float(16, 480, 1, 1)\n",
      "      %39 : Float(16)\n",
      "      %40 : Float(48, 16, 5, 5)\n",
      "      %41 : Float(48)\n",
      "      %42 : Float(64, 480, 1, 1)\n",
      "      %43 : Float(64)\n",
      "      %44 : Float(160, 512, 1, 1)\n",
      "      %45 : Float(160)\n",
      "      %46 : Float(112, 512, 1, 1)\n",
      "      %47 : Float(112)\n",
      "      %48 : Float(224, 112, 3, 3)\n",
      "      %49 : Float(224)\n",
      "      %50 : Float(24, 512, 1, 1)\n",
      "      %51 : Float(24)\n",
      "      %52 : Float(64, 24, 5, 5)\n",
      "      %53 : Float(64)\n",
      "      %54 : Float(64, 512, 1, 1)\n",
      "      %55 : Float(64)\n",
      "      %56 : Float(128, 512, 1, 1)\n",
      "      %57 : Float(128)\n",
      "      %58 : Float(128, 512, 1, 1)\n",
      "      %59 : Float(128)\n",
      "      %60 : Float(256, 128, 3, 3)\n",
      "      %61 : Float(256)\n",
      "      %62 : Float(24, 512, 1, 1)\n",
      "      %63 : Float(24)\n",
      "      %64 : Float(64, 24, 5, 5)\n",
      "      %65 : Float(64)\n",
      "      %66 : Float(64, 512, 1, 1)\n",
      "      %67 : Float(64)\n",
      "      %68 : Float(112, 512, 1, 1)\n",
      "      %69 : Float(112)\n",
      "      %70 : Float(144, 512, 1, 1)\n",
      "      %71 : Float(144)\n",
      "      %72 : Float(288, 144, 3, 3)\n",
      "      %73 : Float(288)\n",
      "      %74 : Float(32, 512, 1, 1)\n",
      "      %75 : Float(32)\n",
      "      %76 : Float(64, 32, 5, 5)\n",
      "      %77 : Float(64)\n",
      "      %78 : Float(64, 512, 1, 1)\n",
      "      %79 : Float(64)\n",
      "      %80 : Float(256, 528, 1, 1)\n",
      "      %81 : Float(256)\n",
      "      %82 : Float(160, 528, 1, 1)\n",
      "      %83 : Float(160)\n",
      "      %84 : Float(320, 160, 3, 3)\n",
      "      %85 : Float(320)\n",
      "      %86 : Float(32, 528, 1, 1)\n",
      "      %87 : Float(32)\n",
      "      %88 : Float(128, 32, 5, 5)\n",
      "      %89 : Float(128)\n",
      "      %90 : Float(128, 528, 1, 1)\n",
      "      %91 : Float(128)\n",
      "      %92 : Float(256, 832, 1, 1)\n",
      "      %93 : Float(256)\n",
      "      %94 : Float(160, 832, 1, 1)\n",
      "      %95 : Float(160)\n",
      "      %96 : Float(320, 160, 3, 3)\n",
      "      %97 : Float(320)\n",
      "      %98 : Float(32, 832, 1, 1)\n",
      "      %99 : Float(32)\n",
      "      %100 : Float(128, 32, 5, 5)\n",
      "      %101 : Float(128)\n",
      "      %102 : Float(128, 832, 1, 1)\n",
      "      %103 : Float(128)\n",
      "      %104 : Float(384, 832, 1, 1)\n",
      "      %105 : Float(384)\n",
      "      %106 : Float(192, 832, 1, 1)\n",
      "      %107 : Float(192)\n",
      "      %108 : Float(384, 192, 3, 3)\n",
      "      %109 : Float(384)\n",
      "      %110 : Float(48, 832, 1, 1)\n",
      "      %111 : Float(48)\n",
      "      %112 : Float(128, 48, 5, 5)\n",
      "      %113 : Float(128)\n",
      "      %114 : Float(128, 832, 1, 1)\n",
      "      %115 : Float(128)\n",
      "      %116 : Float(2, 1024)\n",
      "      %117 : Float(2)) {\n",
      "  %119 : UNKNOWN_TYPE = Conv[kernel_shape=[7, 7], strides=[2, 2], pads=[3, 3, 3, 3], dilations=[1, 1], group=1](%1, %2), uses = [[%120.i0]], scope: GoogLeNet/Sequential[stem_layer]/Conv2d[0];\n",
      "  %120 : Float(1, 64, 112, 112) = Add[broadcast=1, axis=1](%119, %3), uses = [%121.i0], scope: GoogLeNet/Sequential[stem_layer]/Conv2d[0];\n",
      "  %121 : Float(1, 64, 112, 112) = Relu(%120), uses = [%122.i0], scope: GoogLeNet/Sequential[stem_layer]/ReLU[1];\n",
      "  %122 : Float(1, 64, 56, 56) = MaxPool[kernel_shape=[3, 3], pads=[1, 1], strides=[2, 2]](%121), uses = [%123.i0], scope: GoogLeNet/Sequential[stem_layer]/MaxPool2d[2];\n",
      "  %124 : UNKNOWN_TYPE = Conv[kernel_shape=[1, 1], strides=[1, 1], pads=[0, 0, 0, 0], dilations=[1, 1], group=1](%122, %4), uses = [[%125.i0]], scope: GoogLeNet/Sequential[stem_layer]/Conv2d[3];\n",
      "  %125 : Float(1, 64, 56, 56) = Add[broadcast=1, axis=1](%124, %5), uses = [%126.i0], scope: GoogLeNet/Sequential[stem_layer]/Conv2d[3];\n",
      "  %126 : Float(1, 64, 56, 56) = Relu(%125), uses = [%127.i0], scope: GoogLeNet/Sequential[stem_layer]/ReLU[4];\n",
      "  %128 : UNKNOWN_TYPE = Conv[kernel_shape=[3, 3], strides=[1, 1], pads=[1, 1, 1, 1], dilations=[1, 1], group=1](%126, %6), uses = [[%129.i0]], scope: GoogLeNet/Sequential[stem_layer]/Conv2d[5];\n",
      "  %129 : Float(1, 192, 56, 56) = Add[broadcast=1, axis=1](%128, %7), uses = [%130.i0], scope: GoogLeNet/Sequential[stem_layer]/Conv2d[5];\n",
      "  %130 : Float(1, 192, 56, 56) = Relu(%129), uses = [%131.i0], scope: GoogLeNet/Sequential[stem_layer]/ReLU[6];\n",
      "  %131 : Float(1, 192, 28, 28) = MaxPool[kernel_shape=[3, 3], pads=[1, 1], strides=[2, 2]](%130), uses = [%132.i0, %136.i0, %144.i0, %152.i0], scope: GoogLeNet/Sequential[stem_layer]/MaxPool2d[7];\n",
      "  %133 : UNKNOWN_TYPE = Conv[kernel_shape=[1, 1], strides=[1, 1], pads=[0, 0, 0, 0], dilations=[1, 1], group=1](%131, %8), uses = [[%134.i0]], scope: GoogLeNet/Sequential[inception_layer1]/Inception[0]/Sequential[conv1]/Conv2d[0];\n",
      "  %134 : Float(1, 64, 28, 28) = Add[broadcast=1, axis=1](%133, %9), uses = [%135.i0], scope: GoogLeNet/Sequential[inception_layer1]/Inception[0]/Sequential[conv1]/Conv2d[0];\n",
      "  %135 : Float(1, 64, 28, 28) = Relu(%134), uses = [%157.i0], scope: GoogLeNet/Sequential[inception_layer1]/Inception[0]/Sequential[conv1]/ReLU[1];\n",
      "  %137 : UNKNOWN_TYPE = Conv[kernel_shape=[1, 1], strides=[1, 1], pads=[0, 0, 0, 0], dilations=[1, 1], group=1](%131, %10), uses = [[%138.i0]], scope: GoogLeNet/Sequential[inception_layer1]/Inception[0]/Sequential[conv13]/Conv2d[0];\n",
      "  %138 : Float(1, 96, 28, 28) = Add[broadcast=1, axis=1](%137, %11), uses = [%139.i0], scope: GoogLeNet/Sequential[inception_layer1]/Inception[0]/Sequential[conv13]/Conv2d[0];\n",
      "  %139 : Float(1, 96, 28, 28) = Relu(%138), uses = [%140.i0], scope: GoogLeNet/Sequential[inception_layer1]/Inception[0]/Sequential[conv13]/ReLU[1];\n",
      "  %141 : UNKNOWN_TYPE = Conv[kernel_shape=[3, 3], strides=[1, 1], pads=[1, 1, 1, 1], dilations=[1, 1], group=1](%139, %12), uses = [[%142.i0]], scope: GoogLeNet/Sequential[inception_layer1]/Inception[0]/Sequential[conv13]/Conv2d[2];\n",
      "  %142 : Float(1, 128, 28, 28) = Add[broadcast=1, axis=1](%141, %13), uses = [%143.i0], scope: GoogLeNet/Sequential[inception_layer1]/Inception[0]/Sequential[conv13]/Conv2d[2];\n",
      "  %143 : Float(1, 128, 28, 28) = Relu(%142), uses = [%157.i1], scope: GoogLeNet/Sequential[inception_layer1]/Inception[0]/Sequential[conv13]/ReLU[3];\n",
      "  %145 : UNKNOWN_TYPE = Conv[kernel_shape=[1, 1], strides=[1, 1], pads=[0, 0, 0, 0], dilations=[1, 1], group=1](%131, %14), uses = [[%146.i0]], scope: GoogLeNet/Sequential[inception_layer1]/Inception[0]/Sequential[conv15]/Conv2d[0];\n",
      "  %146 : Float(1, 16, 28, 28) = Add[broadcast=1, axis=1](%145, %15), uses = [%147.i0], scope: GoogLeNet/Sequential[inception_layer1]/Inception[0]/Sequential[conv15]/Conv2d[0];\n",
      "  %147 : Float(1, 16, 28, 28) = Relu(%146), uses = [%148.i0], scope: GoogLeNet/Sequential[inception_layer1]/Inception[0]/Sequential[conv15]/ReLU[1];\n",
      "  %149 : UNKNOWN_TYPE = Conv[kernel_shape=[5, 5], strides=[1, 1], pads=[2, 2, 2, 2], dilations=[1, 1], group=1](%147, %16), uses = [[%150.i0]], scope: GoogLeNet/Sequential[inception_layer1]/Inception[0]/Sequential[conv15]/Conv2d[2];\n",
      "  %150 : Float(1, 32, 28, 28) = Add[broadcast=1, axis=1](%149, %17), uses = [%151.i0], scope: GoogLeNet/Sequential[inception_layer1]/Inception[0]/Sequential[conv15]/Conv2d[2];\n",
      "  %151 : Float(1, 32, 28, 28) = Relu(%150), uses = [%157.i2], scope: GoogLeNet/Sequential[inception_layer1]/Inception[0]/Sequential[conv15]/ReLU[3];\n",
      "  %152 : Float(1, 192, 28, 28) = MaxPool[kernel_shape=[3, 3], pads=[1, 1], strides=[1, 1]](%131), uses = [%153.i0], scope: GoogLeNet/Sequential[inception_layer1]/Inception[0]/Sequential[pool_conv1]/MaxPool2d[0];\n",
      "  %154 : UNKNOWN_TYPE = Conv[kernel_shape=[1, 1], strides=[1, 1], pads=[0, 0, 0, 0], dilations=[1, 1], group=1](%152, %18), uses = [[%155.i0]], scope: GoogLeNet/Sequential[inception_layer1]/Inception[0]/Sequential[pool_conv1]/Conv2d[1];\n",
      "  %155 : Float(1, 32, 28, 28) = Add[broadcast=1, axis=1](%154, %19), uses = [%156.i0], scope: GoogLeNet/Sequential[inception_layer1]/Inception[0]/Sequential[pool_conv1]/Conv2d[1];\n",
      "  %156 : Float(1, 32, 28, 28) = Relu(%155), uses = [%157.i3], scope: GoogLeNet/Sequential[inception_layer1]/Inception[0]/Sequential[pool_conv1]/ReLU[2];\n",
      "  %157 : Float(1, 256, 28, 28) = Concat[axis=1](%135, %143, %151, %156), uses = [%158.i0, %162.i0, %170.i0, %178.i0], scope: GoogLeNet/Sequential[inception_layer1]/Inception[0];\n",
      "  %159 : UNKNOWN_TYPE = Conv[kernel_shape=[1, 1], strides=[1, 1], pads=[0, 0, 0, 0], dilations=[1, 1], group=1](%157, %20), uses = [[%160.i0]], scope: GoogLeNet/Sequential[inception_layer1]/Inception[1]/Sequential[conv1]/Conv2d[0];\n",
      "  %160 : Float(1, 128, 28, 28) = Add[broadcast=1, axis=1](%159, %21), uses = [%161.i0], scope: GoogLeNet/Sequential[inception_layer1]/Inception[1]/Sequential[conv1]/Conv2d[0];\n",
      "  %161 : Float(1, 128, 28, 28) = Relu(%160), uses = [%183.i0], scope: GoogLeNet/Sequential[inception_layer1]/Inception[1]/Sequential[conv1]/ReLU[1];\n",
      "  %163 : UNKNOWN_TYPE = Conv[kernel_shape=[1, 1], strides=[1, 1], pads=[0, 0, 0, 0], dilations=[1, 1], group=1](%157, %22), uses = [[%164.i0]], scope: GoogLeNet/Sequential[inception_layer1]/Inception[1]/Sequential[conv13]/Conv2d[0];\n",
      "  %164 : Float(1, 128, 28, 28) = Add[broadcast=1, axis=1](%163, %23), uses = [%165.i0], scope: GoogLeNet/Sequential[inception_layer1]/Inception[1]/Sequential[conv13]/Conv2d[0];\n",
      "  %165 : Float(1, 128, 28, 28) = Relu(%164), uses = [%166.i0], scope: GoogLeNet/Sequential[inception_layer1]/Inception[1]/Sequential[conv13]/ReLU[1];\n",
      "  %167 : UNKNOWN_TYPE = Conv[kernel_shape=[3, 3], strides=[1, 1], pads=[1, 1, 1, 1], dilations=[1, 1], group=1](%165, %24), uses = [[%168.i0]], scope: GoogLeNet/Sequential[inception_layer1]/Inception[1]/Sequential[conv13]/Conv2d[2];\n",
      "  %168 : Float(1, 192, 28, 28) = Add[broadcast=1, axis=1](%167, %25), uses = [%169.i0], scope: GoogLeNet/Sequential[inception_layer1]/Inception[1]/Sequential[conv13]/Conv2d[2];\n",
      "  %169 : Float(1, 192, 28, 28) = Relu(%168), uses = [%183.i1], scope: GoogLeNet/Sequential[inception_layer1]/Inception[1]/Sequential[conv13]/ReLU[3];\n",
      "  %171 : UNKNOWN_TYPE = Conv[kernel_shape=[1, 1], strides=[1, 1], pads=[0, 0, 0, 0], dilations=[1, 1], group=1](%157, %26), uses = [[%172.i0]], scope: GoogLeNet/Sequential[inception_layer1]/Inception[1]/Sequential[conv15]/Conv2d[0];\n",
      "  %172 : Float(1, 32, 28, 28) = Add[broadcast=1, axis=1](%171, %27), uses = [%173.i0], scope: GoogLeNet/Sequential[inception_layer1]/Inception[1]/Sequential[conv15]/Conv2d[0];\n",
      "  %173 : Float(1, 32, 28, 28) = Relu(%172), uses = [%174.i0], scope: GoogLeNet/Sequential[inception_layer1]/Inception[1]/Sequential[conv15]/ReLU[1];\n",
      "  %175 : UNKNOWN_TYPE = Conv[kernel_shape=[5, 5], strides=[1, 1], pads=[2, 2, 2, 2], dilations=[1, 1], group=1](%173, %28), uses = [[%176.i0]], scope: GoogLeNet/Sequential[inception_layer1]/Inception[1]/Sequential[conv15]/Conv2d[2];\n",
      "  %176 : Float(1, 96, 28, 28) = Add[broadcast=1, axis=1](%175, %29), uses = [%177.i0], scope: GoogLeNet/Sequential[inception_layer1]/Inception[1]/Sequential[conv15]/Conv2d[2];\n",
      "  %177 : Float(1, 96, 28, 28) = Relu(%176), uses = [%183.i2], scope: GoogLeNet/Sequential[inception_layer1]/Inception[1]/Sequential[conv15]/ReLU[3];\n",
      "  %178 : Float(1, 256, 28, 28) = MaxPool[kernel_shape=[3, 3], pads=[1, 1], strides=[1, 1]](%157), uses = [%179.i0], scope: GoogLeNet/Sequential[inception_layer1]/Inception[1]/Sequential[pool_conv1]/MaxPool2d[0];\n",
      "  %180 : UNKNOWN_TYPE = Conv[kernel_shape=[1, 1], strides=[1, 1], pads=[0, 0, 0, 0], dilations=[1, 1], group=1](%178, %30), uses = [[%181.i0]], scope: GoogLeNet/Sequential[inception_layer1]/Inception[1]/Sequential[pool_conv1]/Conv2d[1];\n",
      "  %181 : Float(1, 64, 28, 28) = Add[broadcast=1, axis=1](%180, %31), uses = [%182.i0], scope: GoogLeNet/Sequential[inception_layer1]/Inception[1]/Sequential[pool_conv1]/Conv2d[1];\n",
      "  %182 : Float(1, 64, 28, 28) = Relu(%181), uses = [%183.i3], scope: GoogLeNet/Sequential[inception_layer1]/Inception[1]/Sequential[pool_conv1]/ReLU[2];\n",
      "  %183 : Float(1, 480, 28, 28) = Concat[axis=1](%161, %169, %177, %182), uses = [%184.i0], scope: GoogLeNet/Sequential[inception_layer1]/Inception[1];\n",
      "  %184 : Float(1, 480, 14, 14) = MaxPool[kernel_shape=[3, 3], pads=[1, 1], strides=[2, 2]](%183), uses = [%185.i0, %189.i0, %197.i0, %205.i0], scope: GoogLeNet/Sequential[inception_layer1]/MaxPool2d[2];\n",
      "  %186 : UNKNOWN_TYPE = Conv[kernel_shape=[1, 1], strides=[1, 1], pads=[0, 0, 0, 0], dilations=[1, 1], group=1](%184, %32), uses = [[%187.i0]], scope: GoogLeNet/Sequential[inception_layer2]/Inception[0]/Sequential[conv1]/Conv2d[0];\n",
      "  %187 : Float(1, 192, 14, 14) = Add[broadcast=1, axis=1](%186, %33), uses = [%188.i0], scope: GoogLeNet/Sequential[inception_layer2]/Inception[0]/Sequential[conv1]/Conv2d[0];\n",
      "  %188 : Float(1, 192, 14, 14) = Relu(%187), uses = [%210.i0], scope: GoogLeNet/Sequential[inception_layer2]/Inception[0]/Sequential[conv1]/ReLU[1];\n",
      "  %190 : UNKNOWN_TYPE = Conv[kernel_shape=[1, 1], strides=[1, 1], pads=[0, 0, 0, 0], dilations=[1, 1], group=1](%184, %34), uses = [[%191.i0]], scope: GoogLeNet/Sequential[inception_layer2]/Inception[0]/Sequential[conv13]/Conv2d[0];\n",
      "  %191 : Float(1, 96, 14, 14) = Add[broadcast=1, axis=1](%190, %35), uses = [%192.i0], scope: GoogLeNet/Sequential[inception_layer2]/Inception[0]/Sequential[conv13]/Conv2d[0];\n",
      "  %192 : Float(1, 96, 14, 14) = Relu(%191), uses = [%193.i0], scope: GoogLeNet/Sequential[inception_layer2]/Inception[0]/Sequential[conv13]/ReLU[1];\n",
      "  %194 : UNKNOWN_TYPE = Conv[kernel_shape=[3, 3], strides=[1, 1], pads=[1, 1, 1, 1], dilations=[1, 1], group=1](%192, %36), uses = [[%195.i0]], scope: GoogLeNet/Sequential[inception_layer2]/Inception[0]/Sequential[conv13]/Conv2d[2];\n",
      "  %195 : Float(1, 208, 14, 14) = Add[broadcast=1, axis=1](%194, %37), uses = [%196.i0], scope: GoogLeNet/Sequential[inception_layer2]/Inception[0]/Sequential[conv13]/Conv2d[2];\n",
      "  %196 : Float(1, 208, 14, 14) = Relu(%195), uses = [%210.i1], scope: GoogLeNet/Sequential[inception_layer2]/Inception[0]/Sequential[conv13]/ReLU[3];\n",
      "  %198 : UNKNOWN_TYPE = Conv[kernel_shape=[1, 1], strides=[1, 1], pads=[0, 0, 0, 0], dilations=[1, 1], group=1](%184, %38), uses = [[%199.i0]], scope: GoogLeNet/Sequential[inception_layer2]/Inception[0]/Sequential[conv15]/Conv2d[0];\n",
      "  %199 : Float(1, 16, 14, 14) = Add[broadcast=1, axis=1](%198, %39), uses = [%200.i0], scope: GoogLeNet/Sequential[inception_layer2]/Inception[0]/Sequential[conv15]/Conv2d[0];\n",
      "  %200 : Float(1, 16, 14, 14) = Relu(%199), uses = [%201.i0], scope: GoogLeNet/Sequential[inception_layer2]/Inception[0]/Sequential[conv15]/ReLU[1];\n",
      "  %202 : UNKNOWN_TYPE = Conv[kernel_shape=[5, 5], strides=[1, 1], pads=[2, 2, 2, 2], dilations=[1, 1], group=1](%200, %40), uses = [[%203.i0]], scope: GoogLeNet/Sequential[inception_layer2]/Inception[0]/Sequential[conv15]/Conv2d[2];\n",
      "  %203 : Float(1, 48, 14, 14) = Add[broadcast=1, axis=1](%202, %41), uses = [%204.i0], scope: GoogLeNet/Sequential[inception_layer2]/Inception[0]/Sequential[conv15]/Conv2d[2];\n",
      "  %204 : Float(1, 48, 14, 14) = Relu(%203), uses = [%210.i2], scope: GoogLeNet/Sequential[inception_layer2]/Inception[0]/Sequential[conv15]/ReLU[3];\n",
      "  %205 : Float(1, 480, 14, 14) = MaxPool[kernel_shape=[3, 3], pads=[1, 1], strides=[1, 1]](%184), uses = [%206.i0], scope: GoogLeNet/Sequential[inception_layer2]/Inception[0]/Sequential[pool_conv1]/MaxPool2d[0];\n",
      "  %207 : UNKNOWN_TYPE = Conv[kernel_shape=[1, 1], strides=[1, 1], pads=[0, 0, 0, 0], dilations=[1, 1], group=1](%205, %42), uses = [[%208.i0]], scope: GoogLeNet/Sequential[inception_layer2]/Inception[0]/Sequential[pool_conv1]/Conv2d[1];\n",
      "  %208 : Float(1, 64, 14, 14) = Add[broadcast=1, axis=1](%207, %43), uses = [%209.i0], scope: GoogLeNet/Sequential[inception_layer2]/Inception[0]/Sequential[pool_conv1]/Conv2d[1];\n",
      "  %209 : Float(1, 64, 14, 14) = Relu(%208), uses = [%210.i3], scope: GoogLeNet/Sequential[inception_layer2]/Inception[0]/Sequential[pool_conv1]/ReLU[2];\n",
      "  %210 : Float(1, 512, 14, 14) = Concat[axis=1](%188, %196, %204, %209), uses = [%211.i0, %215.i0, %223.i0, %231.i0], scope: GoogLeNet/Sequential[inception_layer2]/Inception[0];\n",
      "  %212 : UNKNOWN_TYPE = Conv[kernel_shape=[1, 1], strides=[1, 1], pads=[0, 0, 0, 0], dilations=[1, 1], group=1](%210, %44), uses = [[%213.i0]], scope: GoogLeNet/Sequential[inception_layer2]/Inception[1]/Sequential[conv1]/Conv2d[0];\n",
      "  %213 : Float(1, 160, 14, 14) = Add[broadcast=1, axis=1](%212, %45), uses = [%214.i0], scope: GoogLeNet/Sequential[inception_layer2]/Inception[1]/Sequential[conv1]/Conv2d[0];\n",
      "  %214 : Float(1, 160, 14, 14) = Relu(%213), uses = [%236.i0], scope: GoogLeNet/Sequential[inception_layer2]/Inception[1]/Sequential[conv1]/ReLU[1];\n",
      "  %216 : UNKNOWN_TYPE = Conv[kernel_shape=[1, 1], strides=[1, 1], pads=[0, 0, 0, 0], dilations=[1, 1], group=1](%210, %46), uses = [[%217.i0]], scope: GoogLeNet/Sequential[inception_layer2]/Inception[1]/Sequential[conv13]/Conv2d[0];\n",
      "  %217 : Float(1, 112, 14, 14) = Add[broadcast=1, axis=1](%216, %47), uses = [%218.i0], scope: GoogLeNet/Sequential[inception_layer2]/Inception[1]/Sequential[conv13]/Conv2d[0];\n",
      "  %218 : Float(1, 112, 14, 14) = Relu(%217), uses = [%219.i0], scope: GoogLeNet/Sequential[inception_layer2]/Inception[1]/Sequential[conv13]/ReLU[1];\n",
      "  %220 : UNKNOWN_TYPE = Conv[kernel_shape=[3, 3], strides=[1, 1], pads=[1, 1, 1, 1], dilations=[1, 1], group=1](%218, %48), uses = [[%221.i0]], scope: GoogLeNet/Sequential[inception_layer2]/Inception[1]/Sequential[conv13]/Conv2d[2];\n",
      "  %221 : Float(1, 224, 14, 14) = Add[broadcast=1, axis=1](%220, %49), uses = [%222.i0], scope: GoogLeNet/Sequential[inception_layer2]/Inception[1]/Sequential[conv13]/Conv2d[2];\n",
      "  %222 : Float(1, 224, 14, 14) = Relu(%221), uses = [%236.i1], scope: GoogLeNet/Sequential[inception_layer2]/Inception[1]/Sequential[conv13]/ReLU[3];\n",
      "  %224 : UNKNOWN_TYPE = Conv[kernel_shape=[1, 1], strides=[1, 1], pads=[0, 0, 0, 0], dilations=[1, 1], group=1](%210, %50), uses = [[%225.i0]], scope: GoogLeNet/Sequential[inception_layer2]/Inception[1]/Sequential[conv15]/Conv2d[0];\n",
      "  %225 : Float(1, 24, 14, 14) = Add[broadcast=1, axis=1](%224, %51), uses = [%226.i0], scope: GoogLeNet/Sequential[inception_layer2]/Inception[1]/Sequential[conv15]/Conv2d[0];\n",
      "  %226 : Float(1, 24, 14, 14) = Relu(%225), uses = [%227.i0], scope: GoogLeNet/Sequential[inception_layer2]/Inception[1]/Sequential[conv15]/ReLU[1];\n",
      "  %228 : UNKNOWN_TYPE = Conv[kernel_shape=[5, 5], strides=[1, 1], pads=[2, 2, 2, 2], dilations=[1, 1], group=1](%226, %52), uses = [[%229.i0]], scope: GoogLeNet/Sequential[inception_layer2]/Inception[1]/Sequential[conv15]/Conv2d[2];\n",
      "  %229 : Float(1, 64, 14, 14) = Add[broadcast=1, axis=1](%228, %53), uses = [%230.i0], scope: GoogLeNet/Sequential[inception_layer2]/Inception[1]/Sequential[conv15]/Conv2d[2];\n",
      "  %230 : Float(1, 64, 14, 14) = Relu(%229), uses = [%236.i2], scope: GoogLeNet/Sequential[inception_layer2]/Inception[1]/Sequential[conv15]/ReLU[3];\n",
      "  %231 : Float(1, 512, 14, 14) = MaxPool[kernel_shape=[3, 3], pads=[1, 1], strides=[1, 1]](%210), uses = [%232.i0], scope: GoogLeNet/Sequential[inception_layer2]/Inception[1]/Sequential[pool_conv1]/MaxPool2d[0];\n",
      "  %233 : UNKNOWN_TYPE = Conv[kernel_shape=[1, 1], strides=[1, 1], pads=[0, 0, 0, 0], dilations=[1, 1], group=1](%231, %54), uses = [[%234.i0]], scope: GoogLeNet/Sequential[inception_layer2]/Inception[1]/Sequential[pool_conv1]/Conv2d[1];\n",
      "  %234 : Float(1, 64, 14, 14) = Add[broadcast=1, axis=1](%233, %55), uses = [%235.i0], scope: GoogLeNet/Sequential[inception_layer2]/Inception[1]/Sequential[pool_conv1]/Conv2d[1];\n",
      "  %235 : Float(1, 64, 14, 14) = Relu(%234), uses = [%236.i3], scope: GoogLeNet/Sequential[inception_layer2]/Inception[1]/Sequential[pool_conv1]/ReLU[2];\n",
      "  %236 : Float(1, 512, 14, 14) = Concat[axis=1](%214, %222, %230, %235), uses = [%237.i0, %241.i0, %249.i0, %257.i0], scope: GoogLeNet/Sequential[inception_layer2]/Inception[1];\n",
      "  %238 : UNKNOWN_TYPE = Conv[kernel_shape=[1, 1], strides=[1, 1], pads=[0, 0, 0, 0], dilations=[1, 1], group=1](%236, %56), uses = [[%239.i0]], scope: GoogLeNet/Sequential[inception_layer2]/Inception[2]/Sequential[conv1]/Conv2d[0];\n",
      "  %239 : Float(1, 128, 14, 14) = Add[broadcast=1, axis=1](%238, %57), uses = [%240.i0], scope: GoogLeNet/Sequential[inception_layer2]/Inception[2]/Sequential[conv1]/Conv2d[0];\n",
      "  %240 : Float(1, 128, 14, 14) = Relu(%239), uses = [%262.i0], scope: GoogLeNet/Sequential[inception_layer2]/Inception[2]/Sequential[conv1]/ReLU[1];\n",
      "  %242 : UNKNOWN_TYPE = Conv[kernel_shape=[1, 1], strides=[1, 1], pads=[0, 0, 0, 0], dilations=[1, 1], group=1](%236, %58), uses = [[%243.i0]], scope: GoogLeNet/Sequential[inception_layer2]/Inception[2]/Sequential[conv13]/Conv2d[0];\n",
      "  %243 : Float(1, 128, 14, 14) = Add[broadcast=1, axis=1](%242, %59), uses = [%244.i0], scope: GoogLeNet/Sequential[inception_layer2]/Inception[2]/Sequential[conv13]/Conv2d[0];\n",
      "  %244 : Float(1, 128, 14, 14) = Relu(%243), uses = [%245.i0], scope: GoogLeNet/Sequential[inception_layer2]/Inception[2]/Sequential[conv13]/ReLU[1];\n",
      "  %246 : UNKNOWN_TYPE = Conv[kernel_shape=[3, 3], strides=[1, 1], pads=[1, 1, 1, 1], dilations=[1, 1], group=1](%244, %60), uses = [[%247.i0]], scope: GoogLeNet/Sequential[inception_layer2]/Inception[2]/Sequential[conv13]/Conv2d[2];\n",
      "  %247 : Float(1, 256, 14, 14) = Add[broadcast=1, axis=1](%246, %61), uses = [%248.i0], scope: GoogLeNet/Sequential[inception_layer2]/Inception[2]/Sequential[conv13]/Conv2d[2];\n",
      "  %248 : Float(1, 256, 14, 14) = Relu(%247), uses = [%262.i1], scope: GoogLeNet/Sequential[inception_layer2]/Inception[2]/Sequential[conv13]/ReLU[3];\n",
      "  %250 : UNKNOWN_TYPE = Conv[kernel_shape=[1, 1], strides=[1, 1], pads=[0, 0, 0, 0], dilations=[1, 1], group=1](%236, %62), uses = [[%251.i0]], scope: GoogLeNet/Sequential[inception_layer2]/Inception[2]/Sequential[conv15]/Conv2d[0];\n",
      "  %251 : Float(1, 24, 14, 14) = Add[broadcast=1, axis=1](%250, %63), uses = [%252.i0], scope: GoogLeNet/Sequential[inception_layer2]/Inception[2]/Sequential[conv15]/Conv2d[0];\n",
      "  %252 : Float(1, 24, 14, 14) = Relu(%251), uses = [%253.i0], scope: GoogLeNet/Sequential[inception_layer2]/Inception[2]/Sequential[conv15]/ReLU[1];\n",
      "  %254 : UNKNOWN_TYPE = Conv[kernel_shape=[5, 5], strides=[1, 1], pads=[2, 2, 2, 2], dilations=[1, 1], group=1](%252, %64), uses = [[%255.i0]], scope: GoogLeNet/Sequential[inception_layer2]/Inception[2]/Sequential[conv15]/Conv2d[2];\n",
      "  %255 : Float(1, 64, 14, 14) = Add[broadcast=1, axis=1](%254, %65), uses = [%256.i0], scope: GoogLeNet/Sequential[inception_layer2]/Inception[2]/Sequential[conv15]/Conv2d[2];\n",
      "  %256 : Float(1, 64, 14, 14) = Relu(%255), uses = [%262.i2], scope: GoogLeNet/Sequential[inception_layer2]/Inception[2]/Sequential[conv15]/ReLU[3];\n",
      "  %257 : Float(1, 512, 14, 14) = MaxPool[kernel_shape=[3, 3], pads=[1, 1], strides=[1, 1]](%236), uses = [%258.i0], scope: GoogLeNet/Sequential[inception_layer2]/Inception[2]/Sequential[pool_conv1]/MaxPool2d[0];\n",
      "  %259 : UNKNOWN_TYPE = Conv[kernel_shape=[1, 1], strides=[1, 1], pads=[0, 0, 0, 0], dilations=[1, 1], group=1](%257, %66), uses = [[%260.i0]], scope: GoogLeNet/Sequential[inception_layer2]/Inception[2]/Sequential[pool_conv1]/Conv2d[1];\n",
      "  %260 : Float(1, 64, 14, 14) = Add[broadcast=1, axis=1](%259, %67), uses = [%261.i0], scope: GoogLeNet/Sequential[inception_layer2]/Inception[2]/Sequential[pool_conv1]/Conv2d[1];\n",
      "  %261 : Float(1, 64, 14, 14) = Relu(%260), uses = [%262.i3], scope: GoogLeNet/Sequential[inception_layer2]/Inception[2]/Sequential[pool_conv1]/ReLU[2];\n",
      "  %262 : Float(1, 512, 14, 14) = Concat[axis=1](%240, %248, %256, %261), uses = [%263.i0, %267.i0, %275.i0, %283.i0], scope: GoogLeNet/Sequential[inception_layer2]/Inception[2];\n",
      "  %264 : UNKNOWN_TYPE = Conv[kernel_shape=[1, 1], strides=[1, 1], pads=[0, 0, 0, 0], dilations=[1, 1], group=1](%262, %68), uses = [[%265.i0]], scope: GoogLeNet/Sequential[inception_layer2]/Inception[3]/Sequential[conv1]/Conv2d[0];\n",
      "  %265 : Float(1, 112, 14, 14) = Add[broadcast=1, axis=1](%264, %69), uses = [%266.i0], scope: GoogLeNet/Sequential[inception_layer2]/Inception[3]/Sequential[conv1]/Conv2d[0];\n",
      "  %266 : Float(1, 112, 14, 14) = Relu(%265), uses = [%288.i0], scope: GoogLeNet/Sequential[inception_layer2]/Inception[3]/Sequential[conv1]/ReLU[1];\n",
      "  %268 : UNKNOWN_TYPE = Conv[kernel_shape=[1, 1], strides=[1, 1], pads=[0, 0, 0, 0], dilations=[1, 1], group=1](%262, %70), uses = [[%269.i0]], scope: GoogLeNet/Sequential[inception_layer2]/Inception[3]/Sequential[conv13]/Conv2d[0];\n",
      "  %269 : Float(1, 144, 14, 14) = Add[broadcast=1, axis=1](%268, %71), uses = [%270.i0], scope: GoogLeNet/Sequential[inception_layer2]/Inception[3]/Sequential[conv13]/Conv2d[0];\n",
      "  %270 : Float(1, 144, 14, 14) = Relu(%269), uses = [%271.i0], scope: GoogLeNet/Sequential[inception_layer2]/Inception[3]/Sequential[conv13]/ReLU[1];\n",
      "  %272 : UNKNOWN_TYPE = Conv[kernel_shape=[3, 3], strides=[1, 1], pads=[1, 1, 1, 1], dilations=[1, 1], group=1](%270, %72), uses = [[%273.i0]], scope: GoogLeNet/Sequential[inception_layer2]/Inception[3]/Sequential[conv13]/Conv2d[2];\n",
      "  %273 : Float(1, 288, 14, 14) = Add[broadcast=1, axis=1](%272, %73), uses = [%274.i0], scope: GoogLeNet/Sequential[inception_layer2]/Inception[3]/Sequential[conv13]/Conv2d[2];\n",
      "  %274 : Float(1, 288, 14, 14) = Relu(%273), uses = [%288.i1], scope: GoogLeNet/Sequential[inception_layer2]/Inception[3]/Sequential[conv13]/ReLU[3];\n",
      "  %276 : UNKNOWN_TYPE = Conv[kernel_shape=[1, 1], strides=[1, 1], pads=[0, 0, 0, 0], dilations=[1, 1], group=1](%262, %74), uses = [[%277.i0]], scope: GoogLeNet/Sequential[inception_layer2]/Inception[3]/Sequential[conv15]/Conv2d[0];\n",
      "  %277 : Float(1, 32, 14, 14) = Add[broadcast=1, axis=1](%276, %75), uses = [%278.i0], scope: GoogLeNet/Sequential[inception_layer2]/Inception[3]/Sequential[conv15]/Conv2d[0];\n",
      "  %278 : Float(1, 32, 14, 14) = Relu(%277), uses = [%279.i0], scope: GoogLeNet/Sequential[inception_layer2]/Inception[3]/Sequential[conv15]/ReLU[1];\n",
      "  %280 : UNKNOWN_TYPE = Conv[kernel_shape=[5, 5], strides=[1, 1], pads=[2, 2, 2, 2], dilations=[1, 1], group=1](%278, %76), uses = [[%281.i0]], scope: GoogLeNet/Sequential[inception_layer2]/Inception[3]/Sequential[conv15]/Conv2d[2];\n",
      "  %281 : Float(1, 64, 14, 14) = Add[broadcast=1, axis=1](%280, %77), uses = [%282.i0], scope: GoogLeNet/Sequential[inception_layer2]/Inception[3]/Sequential[conv15]/Conv2d[2];\n",
      "  %282 : Float(1, 64, 14, 14) = Relu(%281), uses = [%288.i2], scope: GoogLeNet/Sequential[inception_layer2]/Inception[3]/Sequential[conv15]/ReLU[3];\n",
      "  %283 : Float(1, 512, 14, 14) = MaxPool[kernel_shape=[3, 3], pads=[1, 1], strides=[1, 1]](%262), uses = [%284.i0], scope: GoogLeNet/Sequential[inception_layer2]/Inception[3]/Sequential[pool_conv1]/MaxPool2d[0];\n",
      "  %285 : UNKNOWN_TYPE = Conv[kernel_shape=[1, 1], strides=[1, 1], pads=[0, 0, 0, 0], dilations=[1, 1], group=1](%283, %78), uses = [[%286.i0]], scope: GoogLeNet/Sequential[inception_layer2]/Inception[3]/Sequential[pool_conv1]/Conv2d[1];\n",
      "  %286 : Float(1, 64, 14, 14) = Add[broadcast=1, axis=1](%285, %79), uses = [%287.i0], scope: GoogLeNet/Sequential[inception_layer2]/Inception[3]/Sequential[pool_conv1]/Conv2d[1];\n",
      "  %287 : Float(1, 64, 14, 14) = Relu(%286), uses = [%288.i3], scope: GoogLeNet/Sequential[inception_layer2]/Inception[3]/Sequential[pool_conv1]/ReLU[2];\n",
      "  %288 : Float(1, 528, 14, 14) = Concat[axis=1](%266, %274, %282, %287), uses = [%289.i0, %293.i0, %301.i0, %309.i0], scope: GoogLeNet/Sequential[inception_layer2]/Inception[3];\n",
      "  %290 : UNKNOWN_TYPE = Conv[kernel_shape=[1, 1], strides=[1, 1], pads=[0, 0, 0, 0], dilations=[1, 1], group=1](%288, %80), uses = [[%291.i0]], scope: GoogLeNet/Sequential[inception_layer2]/Inception[4]/Sequential[conv1]/Conv2d[0];\n",
      "  %291 : Float(1, 256, 14, 14) = Add[broadcast=1, axis=1](%290, %81), uses = [%292.i0], scope: GoogLeNet/Sequential[inception_layer2]/Inception[4]/Sequential[conv1]/Conv2d[0];\n",
      "  %292 : Float(1, 256, 14, 14) = Relu(%291), uses = [%314.i0], scope: GoogLeNet/Sequential[inception_layer2]/Inception[4]/Sequential[conv1]/ReLU[1];\n",
      "  %294 : UNKNOWN_TYPE = Conv[kernel_shape=[1, 1], strides=[1, 1], pads=[0, 0, 0, 0], dilations=[1, 1], group=1](%288, %82), uses = [[%295.i0]], scope: GoogLeNet/Sequential[inception_layer2]/Inception[4]/Sequential[conv13]/Conv2d[0];\n",
      "  %295 : Float(1, 160, 14, 14) = Add[broadcast=1, axis=1](%294, %83), uses = [%296.i0], scope: GoogLeNet/Sequential[inception_layer2]/Inception[4]/Sequential[conv13]/Conv2d[0];\n",
      "  %296 : Float(1, 160, 14, 14) = Relu(%295), uses = [%297.i0], scope: GoogLeNet/Sequential[inception_layer2]/Inception[4]/Sequential[conv13]/ReLU[1];\n",
      "  %298 : UNKNOWN_TYPE = Conv[kernel_shape=[3, 3], strides=[1, 1], pads=[1, 1, 1, 1], dilations=[1, 1], group=1](%296, %84), uses = [[%299.i0]], scope: GoogLeNet/Sequential[inception_layer2]/Inception[4]/Sequential[conv13]/Conv2d[2];\n",
      "  %299 : Float(1, 320, 14, 14) = Add[broadcast=1, axis=1](%298, %85), uses = [%300.i0], scope: GoogLeNet/Sequential[inception_layer2]/Inception[4]/Sequential[conv13]/Conv2d[2];\n",
      "  %300 : Float(1, 320, 14, 14) = Relu(%299), uses = [%314.i1], scope: GoogLeNet/Sequential[inception_layer2]/Inception[4]/Sequential[conv13]/ReLU[3];\n",
      "  %302 : UNKNOWN_TYPE = Conv[kernel_shape=[1, 1], strides=[1, 1], pads=[0, 0, 0, 0], dilations=[1, 1], group=1](%288, %86), uses = [[%303.i0]], scope: GoogLeNet/Sequential[inception_layer2]/Inception[4]/Sequential[conv15]/Conv2d[0];\n",
      "  %303 : Float(1, 32, 14, 14) = Add[broadcast=1, axis=1](%302, %87), uses = [%304.i0], scope: GoogLeNet/Sequential[inception_layer2]/Inception[4]/Sequential[conv15]/Conv2d[0];\n",
      "  %304 : Float(1, 32, 14, 14) = Relu(%303), uses = [%305.i0], scope: GoogLeNet/Sequential[inception_layer2]/Inception[4]/Sequential[conv15]/ReLU[1];\n",
      "  %306 : UNKNOWN_TYPE = Conv[kernel_shape=[5, 5], strides=[1, 1], pads=[2, 2, 2, 2], dilations=[1, 1], group=1](%304, %88), uses = [[%307.i0]], scope: GoogLeNet/Sequential[inception_layer2]/Inception[4]/Sequential[conv15]/Conv2d[2];\n",
      "  %307 : Float(1, 128, 14, 14) = Add[broadcast=1, axis=1](%306, %89), uses = [%308.i0], scope: GoogLeNet/Sequential[inception_layer2]/Inception[4]/Sequential[conv15]/Conv2d[2];\n",
      "  %308 : Float(1, 128, 14, 14) = Relu(%307), uses = [%314.i2], scope: GoogLeNet/Sequential[inception_layer2]/Inception[4]/Sequential[conv15]/ReLU[3];\n",
      "  %309 : Float(1, 528, 14, 14) = MaxPool[kernel_shape=[3, 3], pads=[1, 1], strides=[1, 1]](%288), uses = [%310.i0], scope: GoogLeNet/Sequential[inception_layer2]/Inception[4]/Sequential[pool_conv1]/MaxPool2d[0];\n",
      "  %311 : UNKNOWN_TYPE = Conv[kernel_shape=[1, 1], strides=[1, 1], pads=[0, 0, 0, 0], dilations=[1, 1], group=1](%309, %90), uses = [[%312.i0]], scope: GoogLeNet/Sequential[inception_layer2]/Inception[4]/Sequential[pool_conv1]/Conv2d[1];\n",
      "  %312 : Float(1, 128, 14, 14) = Add[broadcast=1, axis=1](%311, %91), uses = [%313.i0], scope: GoogLeNet/Sequential[inception_layer2]/Inception[4]/Sequential[pool_conv1]/Conv2d[1];\n",
      "  %313 : Float(1, 128, 14, 14) = Relu(%312), uses = [%314.i3], scope: GoogLeNet/Sequential[inception_layer2]/Inception[4]/Sequential[pool_conv1]/ReLU[2];\n",
      "  %314 : Float(1, 832, 14, 14) = Concat[axis=1](%292, %300, %308, %313), uses = [%315.i0], scope: GoogLeNet/Sequential[inception_layer2]/Inception[4];\n",
      "  %315 : Float(1, 832, 7, 7) = MaxPool[kernel_shape=[3, 3], pads=[1, 1], strides=[2, 2]](%314), uses = [%316.i0, %320.i0, %328.i0, %336.i0], scope: GoogLeNet/Sequential[inception_layer2]/MaxPool2d[5];\n",
      "  %317 : UNKNOWN_TYPE = Conv[kernel_shape=[1, 1], strides=[1, 1], pads=[0, 0, 0, 0], dilations=[1, 1], group=1](%315, %92), uses = [[%318.i0]], scope: GoogLeNet/Sequential[inception_layer3]/Inception[0]/Sequential[conv1]/Conv2d[0];\n",
      "  %318 : Float(1, 256, 7, 7) = Add[broadcast=1, axis=1](%317, %93), uses = [%319.i0], scope: GoogLeNet/Sequential[inception_layer3]/Inception[0]/Sequential[conv1]/Conv2d[0];\n",
      "  %319 : Float(1, 256, 7, 7) = Relu(%318), uses = [%341.i0], scope: GoogLeNet/Sequential[inception_layer3]/Inception[0]/Sequential[conv1]/ReLU[1];\n",
      "  %321 : UNKNOWN_TYPE = Conv[kernel_shape=[1, 1], strides=[1, 1], pads=[0, 0, 0, 0], dilations=[1, 1], group=1](%315, %94), uses = [[%322.i0]], scope: GoogLeNet/Sequential[inception_layer3]/Inception[0]/Sequential[conv13]/Conv2d[0];\n",
      "  %322 : Float(1, 160, 7, 7) = Add[broadcast=1, axis=1](%321, %95), uses = [%323.i0], scope: GoogLeNet/Sequential[inception_layer3]/Inception[0]/Sequential[conv13]/Conv2d[0];\n",
      "  %323 : Float(1, 160, 7, 7) = Relu(%322), uses = [%324.i0], scope: GoogLeNet/Sequential[inception_layer3]/Inception[0]/Sequential[conv13]/ReLU[1];\n",
      "  %325 : UNKNOWN_TYPE = Conv[kernel_shape=[3, 3], strides=[1, 1], pads=[1, 1, 1, 1], dilations=[1, 1], group=1](%323, %96), uses = [[%326.i0]], scope: GoogLeNet/Sequential[inception_layer3]/Inception[0]/Sequential[conv13]/Conv2d[2];\n",
      "  %326 : Float(1, 320, 7, 7) = Add[broadcast=1, axis=1](%325, %97), uses = [%327.i0], scope: GoogLeNet/Sequential[inception_layer3]/Inception[0]/Sequential[conv13]/Conv2d[2];\n",
      "  %327 : Float(1, 320, 7, 7) = Relu(%326), uses = [%341.i1], scope: GoogLeNet/Sequential[inception_layer3]/Inception[0]/Sequential[conv13]/ReLU[3];\n",
      "  %329 : UNKNOWN_TYPE = Conv[kernel_shape=[1, 1], strides=[1, 1], pads=[0, 0, 0, 0], dilations=[1, 1], group=1](%315, %98), uses = [[%330.i0]], scope: GoogLeNet/Sequential[inception_layer3]/Inception[0]/Sequential[conv15]/Conv2d[0];\n",
      "  %330 : Float(1, 32, 7, 7) = Add[broadcast=1, axis=1](%329, %99), uses = [%331.i0], scope: GoogLeNet/Sequential[inception_layer3]/Inception[0]/Sequential[conv15]/Conv2d[0];\n",
      "  %331 : Float(1, 32, 7, 7) = Relu(%330), uses = [%332.i0], scope: GoogLeNet/Sequential[inception_layer3]/Inception[0]/Sequential[conv15]/ReLU[1];\n",
      "  %333 : UNKNOWN_TYPE = Conv[kernel_shape=[5, 5], strides=[1, 1], pads=[2, 2, 2, 2], dilations=[1, 1], group=1](%331, %100), uses = [[%334.i0]], scope: GoogLeNet/Sequential[inception_layer3]/Inception[0]/Sequential[conv15]/Conv2d[2];\n",
      "  %334 : Float(1, 128, 7, 7) = Add[broadcast=1, axis=1](%333, %101), uses = [%335.i0], scope: GoogLeNet/Sequential[inception_layer3]/Inception[0]/Sequential[conv15]/Conv2d[2];\n",
      "  %335 : Float(1, 128, 7, 7) = Relu(%334), uses = [%341.i2], scope: GoogLeNet/Sequential[inception_layer3]/Inception[0]/Sequential[conv15]/ReLU[3];\n",
      "  %336 : Float(1, 832, 7, 7) = MaxPool[kernel_shape=[3, 3], pads=[1, 1], strides=[1, 1]](%315), uses = [%337.i0], scope: GoogLeNet/Sequential[inception_layer3]/Inception[0]/Sequential[pool_conv1]/MaxPool2d[0];\n",
      "  %338 : UNKNOWN_TYPE = Conv[kernel_shape=[1, 1], strides=[1, 1], pads=[0, 0, 0, 0], dilations=[1, 1], group=1](%336, %102), uses = [[%339.i0]], scope: GoogLeNet/Sequential[inception_layer3]/Inception[0]/Sequential[pool_conv1]/Conv2d[1];\n",
      "  %339 : Float(1, 128, 7, 7) = Add[broadcast=1, axis=1](%338, %103), uses = [%340.i0], scope: GoogLeNet/Sequential[inception_layer3]/Inception[0]/Sequential[pool_conv1]/Conv2d[1];\n",
      "  %340 : Float(1, 128, 7, 7) = Relu(%339), uses = [%341.i3], scope: GoogLeNet/Sequential[inception_layer3]/Inception[0]/Sequential[pool_conv1]/ReLU[2];\n",
      "  %341 : Float(1, 832, 7, 7) = Concat[axis=1](%319, %327, %335, %340), uses = [%342.i0, %346.i0, %354.i0, %362.i0], scope: GoogLeNet/Sequential[inception_layer3]/Inception[0];\n",
      "  %343 : UNKNOWN_TYPE = Conv[kernel_shape=[1, 1], strides=[1, 1], pads=[0, 0, 0, 0], dilations=[1, 1], group=1](%341, %104), uses = [[%344.i0]], scope: GoogLeNet/Sequential[inception_layer3]/Inception[1]/Sequential[conv1]/Conv2d[0];\n",
      "  %344 : Float(1, 384, 7, 7) = Add[broadcast=1, axis=1](%343, %105), uses = [%345.i0], scope: GoogLeNet/Sequential[inception_layer3]/Inception[1]/Sequential[conv1]/Conv2d[0];\n",
      "  %345 : Float(1, 384, 7, 7) = Relu(%344), uses = [%367.i0], scope: GoogLeNet/Sequential[inception_layer3]/Inception[1]/Sequential[conv1]/ReLU[1];\n",
      "  %347 : UNKNOWN_TYPE = Conv[kernel_shape=[1, 1], strides=[1, 1], pads=[0, 0, 0, 0], dilations=[1, 1], group=1](%341, %106), uses = [[%348.i0]], scope: GoogLeNet/Sequential[inception_layer3]/Inception[1]/Sequential[conv13]/Conv2d[0];\n",
      "  %348 : Float(1, 192, 7, 7) = Add[broadcast=1, axis=1](%347, %107), uses = [%349.i0], scope: GoogLeNet/Sequential[inception_layer3]/Inception[1]/Sequential[conv13]/Conv2d[0];\n",
      "  %349 : Float(1, 192, 7, 7) = Relu(%348), uses = [%350.i0], scope: GoogLeNet/Sequential[inception_layer3]/Inception[1]/Sequential[conv13]/ReLU[1];\n",
      "  %351 : UNKNOWN_TYPE = Conv[kernel_shape=[3, 3], strides=[1, 1], pads=[1, 1, 1, 1], dilations=[1, 1], group=1](%349, %108), uses = [[%352.i0]], scope: GoogLeNet/Sequential[inception_layer3]/Inception[1]/Sequential[conv13]/Conv2d[2];\n",
      "  %352 : Float(1, 384, 7, 7) = Add[broadcast=1, axis=1](%351, %109), uses = [%353.i0], scope: GoogLeNet/Sequential[inception_layer3]/Inception[1]/Sequential[conv13]/Conv2d[2];\n",
      "  %353 : Float(1, 384, 7, 7) = Relu(%352), uses = [%367.i1], scope: GoogLeNet/Sequential[inception_layer3]/Inception[1]/Sequential[conv13]/ReLU[3];\n",
      "  %355 : UNKNOWN_TYPE = Conv[kernel_shape=[1, 1], strides=[1, 1], pads=[0, 0, 0, 0], dilations=[1, 1], group=1](%341, %110), uses = [[%356.i0]], scope: GoogLeNet/Sequential[inception_layer3]/Inception[1]/Sequential[conv15]/Conv2d[0];\n",
      "  %356 : Float(1, 48, 7, 7) = Add[broadcast=1, axis=1](%355, %111), uses = [%357.i0], scope: GoogLeNet/Sequential[inception_layer3]/Inception[1]/Sequential[conv15]/Conv2d[0];\n",
      "  %357 : Float(1, 48, 7, 7) = Relu(%356), uses = [%358.i0], scope: GoogLeNet/Sequential[inception_layer3]/Inception[1]/Sequential[conv15]/ReLU[1];\n",
      "  %359 : UNKNOWN_TYPE = Conv[kernel_shape=[5, 5], strides=[1, 1], pads=[2, 2, 2, 2], dilations=[1, 1], group=1](%357, %112), uses = [[%360.i0]], scope: GoogLeNet/Sequential[inception_layer3]/Inception[1]/Sequential[conv15]/Conv2d[2];\n",
      "  %360 : Float(1, 128, 7, 7) = Add[broadcast=1, axis=1](%359, %113), uses = [%361.i0], scope: GoogLeNet/Sequential[inception_layer3]/Inception[1]/Sequential[conv15]/Conv2d[2];\n",
      "  %361 : Float(1, 128, 7, 7) = Relu(%360), uses = [%367.i2], scope: GoogLeNet/Sequential[inception_layer3]/Inception[1]/Sequential[conv15]/ReLU[3];\n",
      "  %362 : Float(1, 832, 7, 7) = MaxPool[kernel_shape=[3, 3], pads=[1, 1], strides=[1, 1]](%341), uses = [%363.i0], scope: GoogLeNet/Sequential[inception_layer3]/Inception[1]/Sequential[pool_conv1]/MaxPool2d[0];\n",
      "  %364 : UNKNOWN_TYPE = Conv[kernel_shape=[1, 1], strides=[1, 1], pads=[0, 0, 0, 0], dilations=[1, 1], group=1](%362, %114), uses = [[%365.i0]], scope: GoogLeNet/Sequential[inception_layer3]/Inception[1]/Sequential[pool_conv1]/Conv2d[1];\n",
      "  %365 : Float(1, 128, 7, 7) = Add[broadcast=1, axis=1](%364, %115), uses = [%366.i0], scope: GoogLeNet/Sequential[inception_layer3]/Inception[1]/Sequential[pool_conv1]/Conv2d[1];\n",
      "  %366 : Float(1, 128, 7, 7) = Relu(%365), uses = [%367.i3], scope: GoogLeNet/Sequential[inception_layer3]/Inception[1]/Sequential[pool_conv1]/ReLU[2];\n",
      "  %367 : Float(1, 1024, 7, 7) = Concat[axis=1](%345, %353, %361, %366), uses = [%368.i0], scope: GoogLeNet/Sequential[inception_layer3]/Inception[1];\n",
      "  %368 : Float(1, 1024, 1, 1) = AveragePool[kernel_shape=[7, 7], pads=[0, 0], strides=[1, 1]](%367), uses = [%369.i0], scope: GoogLeNet/Sequential[inception_layer3]/AvgPool2d[2];\n",
      "  %369 : Float(1, 1024) = Reshape[shape=[1, -1]](%368), uses = [%372.i0], scope: GoogLeNet;\n",
      "  %372 : Float(1, 2) = Gemm[alpha=1, beta=1, broadcast=1, transB=1](%369, %116, %117), uses = [%0.i0], scope: GoogLeNet/Linear[output_layer];\n",
      "  return (%372);\n",
      "}\n",
      "\n"
     ]
    }
   ],
   "source": [
    "preds = model(Variable(sample_x))\n",
    "torch.onnx.export(model, Variable(sample_x), 'Googlenet.proto', verbose=True)\n",
    "writer.add_graph_onnx('Googlenet.proto')\n",
    "writer.close()"
   ]
  },
  {
   "cell_type": "markdown",
   "metadata": {},
   "source": [
    "## 4. Optimizer & Loss"
   ]
  },
  {
   "cell_type": "code",
   "execution_count": 11,
   "metadata": {
    "ExecuteTime": {
     "end_time": "2018-03-24T12:11:50.050131Z",
     "start_time": "2018-03-24T12:11:50.041243Z"
    }
   },
   "outputs": [],
   "source": [
    "loss_func = nn.CrossEntropyLoss()\n",
    "optimizer = optim.Adam(model.parameters(), lr=learning_rate)"
   ]
  },
  {
   "cell_type": "markdown",
   "metadata": {},
   "source": [
    "## 5. Train"
   ]
  },
  {
   "cell_type": "code",
   "execution_count": null,
   "metadata": {
    "ExecuteTime": {
     "end_time": "2018-03-24T12:08:28.606365Z",
     "start_time": "2018-03-24T12:08:28.599808Z"
    }
   },
   "outputs": [],
   "source": [
    "# model.train()"
   ]
  },
  {
   "cell_type": "code",
   "execution_count": 12,
   "metadata": {
    "ExecuteTime": {
     "end_time": "2018-03-24T12:14:46.363147Z",
     "start_time": "2018-03-24T12:12:06.140679Z"
    }
   },
   "outputs": [
    {
     "name": "stdout",
     "output_type": "stream",
     "text": [
      "Variable containing:\n",
      " 0.7446\n",
      "[torch.FloatTensor of size 1]\n",
      "\n",
      "Variable containing:\n",
      " 0.6864\n",
      "[torch.FloatTensor of size 1]\n",
      "\n",
      "Variable containing:\n",
      " 0.7023\n",
      "[torch.FloatTensor of size 1]\n",
      "\n",
      "Variable containing:\n",
      " 0.7096\n",
      "[torch.FloatTensor of size 1]\n",
      "\n",
      "Variable containing:\n",
      " 0.6932\n",
      "[torch.FloatTensor of size 1]\n",
      "\n",
      "Variable containing:\n",
      " 0.7054\n",
      "[torch.FloatTensor of size 1]\n",
      "\n",
      "Variable containing:\n",
      " 0.6839\n",
      "[torch.FloatTensor of size 1]\n",
      "\n",
      "Variable containing:\n",
      " 0.6715\n",
      "[torch.FloatTensor of size 1]\n",
      "\n",
      "Variable containing:\n",
      " 0.6886\n",
      "[torch.FloatTensor of size 1]\n",
      "\n",
      "Variable containing:\n",
      " 0.7059\n",
      "[torch.FloatTensor of size 1]\n",
      "\n"
     ]
    }
   ],
   "source": [
    "for i in range(epoch):\n",
    "    for img,label in img_batch:\n",
    "        img = Variable(img)#.cuda()\n",
    "        label = Variable(label)#.cuda()\n",
    "\n",
    "        optimizer.zero_grad()\n",
    "        output = model(img)\n",
    "        \n",
    "        #print(output.size())\n",
    "        loss = loss_func(output,label)\n",
    "        loss.backward()\n",
    "        optimizer.step()\n",
    "\n",
    "    if i % 10 ==0:\n",
    "        print(loss)"
   ]
  },
  {
   "cell_type": "code",
   "execution_count": null,
   "metadata": {},
   "outputs": [],
   "source": []
  }
 ],
 "metadata": {
  "kernelspec": {
   "display_name": "Python (pytorch)",
   "language": "python",
   "name": "pytorch"
  },
  "language_info": {
   "codemirror_mode": {
    "name": "ipython",
    "version": 3
   },
   "file_extension": ".py",
   "mimetype": "text/x-python",
   "name": "python",
   "nbconvert_exporter": "python",
   "pygments_lexer": "ipython3",
   "version": "3.6.3"
  },
  "latex_envs": {
   "LaTeX_envs_menu_present": true,
   "autoclose": false,
   "autocomplete": true,
   "bibliofile": "biblio.bib",
   "cite_by": "apalike",
   "current_citInitial": 1,
   "eqLabelWithNumbers": true,
   "eqNumInitial": 1,
   "hotkeys": {
    "equation": "Ctrl-E",
    "itemize": "Ctrl-I"
   },
   "labels_anchors": false,
   "latex_user_defs": false,
   "report_style_numbering": false,
   "user_envs_cfg": false
  },
  "varInspector": {
   "cols": {
    "lenName": 16,
    "lenType": 16,
    "lenVar": 40
   },
   "kernels_config": {
    "python": {
     "delete_cmd_postfix": "",
     "delete_cmd_prefix": "del ",
     "library": "var_list.py",
     "varRefreshCmd": "print(var_dic_list())"
    },
    "r": {
     "delete_cmd_postfix": ") ",
     "delete_cmd_prefix": "rm(",
     "library": "var_list.r",
     "varRefreshCmd": "cat(var_dic_list()) "
    }
   },
   "types_to_exclude": [
    "module",
    "function",
    "builtin_function_or_method",
    "instance",
    "_Feature"
   ],
   "window_display": false
  }
 },
 "nbformat": 4,
 "nbformat_minor": 2
}
